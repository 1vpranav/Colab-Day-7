{
  "nbformat": 4,
  "nbformat_minor": 0,
  "metadata": {
    "colab": {
      "name": "Python_Strings.ipynb",
      "version": "0.3.2",
      "provenance": [],
      "collapsed_sections": [],
      "include_colab_link": true
    },
    "kernelspec": {
      "name": "python3",
      "display_name": "Python 3"
    }
  },
  "cells": [
    {
      "cell_type": "markdown",
      "metadata": {
        "id": "view-in-github",
        "colab_type": "text"
      },
      "source": [
        "<a href=\"https://colab.research.google.com/github/1vpranav/Colab-Day-7/blob/master/Python_Strings.ipynb\" target=\"_parent\"><img src=\"https://colab.research.google.com/assets/colab-badge.svg\" alt=\"Open In Colab\"/></a>"
      ]
    },
    {
      "cell_type": "code",
      "metadata": {
        "id": "6JLv1CeiX-vI",
        "colab_type": "code",
        "outputId": "be94d73f-aeb8-47c7-a66f-a3456c48e913",
        "colab": {
          "base_uri": "https://localhost:8080/",
          "height": 202
        }
      },
      "source": [
        "s1 = 'Python'\n",
        "print(s1[0])#prints first char (s1)\n",
        "print(s1[1])\n",
        "print(s1[2])\n",
        "print(s1[3])\n",
        "print(s1[4])\n",
        "print(s1[5])\n",
        "print(s1[len(s1)-1])#prints last char (s1)\n",
        "print(s1[0:2])\n",
        "print(s1[:2])\n",
        "print(s1[-3:])\n",
        "print(s1[2:])\n",
        "print(s1[::3])\n",
        "print(s1[::-2])#from reverse order"
      ],
      "execution_count": 0,
      "outputs": [
        {
          "output_type": "stream",
          "text": [
            "P\n",
            "y\n",
            "t\n",
            "h\n",
            "o\n",
            "n\n",
            "n\n",
            "Py\n",
            "Py\n",
            "hon\n",
            "thon\n"
          ],
          "name": "stdout"
        }
      ]
    },
    {
      "cell_type": "code",
      "metadata": {
        "colab_type": "code",
        "outputId": "10cf0cf9-b2aa-44b2-d88c-962e5aaa2431",
        "id": "Ofohwi-bx0PK",
        "colab": {
          "base_uri": "https://localhost:8080/",
          "height": 34
        }
      },
      "source": [
        "def printUpper(x):\n",
        "  for i in range(len(x)):\n",
        "    if ord(x[i]) >= 65 and ord(x[i]) <= 90:\n",
        "      print(x[i],end = \" \")\n",
        "      \n",
        "  return\n",
        "printUpper(\"PyThon\")\n"
      ],
      "execution_count": 24,
      "outputs": [
        {
          "output_type": "stream",
          "text": [
            "P T "
          ],
          "name": "stdout"
        }
      ]
    },
    {
      "cell_type": "code",
      "metadata": {
        "id": "4_Z-sUPgyuhI",
        "colab_type": "code",
        "colab": {
          "base_uri": "https://localhost:8080/",
          "height": 34
        },
        "outputId": "9971990d-1338-4e2a-c561-1190391565bc"
      },
      "source": [
        "ord('a')#it gives us equivalent ascii value\n"
      ],
      "execution_count": 15,
      "outputs": [
        {
          "output_type": "execute_result",
          "data": {
            "text/plain": [
              "97"
            ]
          },
          "metadata": {
            "tags": []
          },
          "execution_count": 15
        }
      ]
    },
    {
      "cell_type": "code",
      "metadata": {
        "id": "cwC8EpyY1itx",
        "colab_type": "code",
        "colab": {}
      },
      "source": [
        ""
      ],
      "execution_count": 0,
      "outputs": []
    },
    {
      "cell_type": "code",
      "metadata": {
        "id": "LHUTMU1e3XZZ",
        "colab_type": "code",
        "colab": {
          "base_uri": "https://localhost:8080/",
          "height": 128
        },
        "outputId": "44e91ebb-371e-44c7-b2f1-4af4e11a8378"
      },
      "source": [
        "def findcount(str):\n",
        "   cntupper = 0\n",
        "  for % in range(len(str)):\n",
        "    if ord(str[x]) >= 65 and ord(str[x]) <= 90:\n",
        "         cntupper = cntupper + 1\n",
        "      elif ord(str[x]) >= 97 and ord(str[x]) <=122:\n",
        "         cntLower = cntLower + 1\n",
        "  if cntupper == cntLower:\n",
        "     return \"samecount\"\n",
        "  else:\n",
        "     return\"programming\"\n",
        "  return\n",
        "print(findcount('pyThon'))\n",
        "print(findcount('pYTHon'))"
      ],
      "execution_count": 37,
      "outputs": [
        {
          "output_type": "error",
          "ename": "IndentationError",
          "evalue": "ignored",
          "traceback": [
            "\u001b[0;36m  File \u001b[0;32m\"<ipython-input-37-0f89d2495de2>\"\u001b[0;36m, line \u001b[0;32m3\u001b[0m\n\u001b[0;31m    for % in range(len(str)):\u001b[0m\n\u001b[0m                             ^\u001b[0m\n\u001b[0;31mIndentationError\u001b[0m\u001b[0;31m:\u001b[0m unindent does not match any outer indentation level\n"
          ]
        }
      ]
    },
    {
      "cell_type": "code",
      "metadata": {
        "id": "62W4rFr_9_U1",
        "colab_type": "code",
        "colab": {
          "base_uri": "https://localhost:8080/",
          "height": 34
        },
        "outputId": "d2b56175-36ed-4fbd-d8db-7e04c98d5ad6"
      },
      "source": [
        "def sumOfDigits(str):\n",
        "  sum = 0\n",
        "  for x in range(len(str)):\n",
        "    if ord(str[x]) >= 48 and ord(str[x]) <= 57:\n",
        "      sum = sum + (ord(str[x])-48)\n",
        "  return sum\n",
        "sumOfDigits('Applicat8ion89')\n"
      ],
      "execution_count": 22,
      "outputs": [
        {
          "output_type": "execute_result",
          "data": {
            "text/plain": [
              "25"
            ]
          },
          "metadata": {
            "tags": []
          },
          "execution_count": 22
        }
      ]
    },
    {
      "cell_type": "code",
      "metadata": {
        "id": "01sKXAdRDWDH",
        "colab_type": "code",
        "colab": {
          "base_uri": "https://localhost:8080/",
          "height": 34
        },
        "outputId": "8e01e5a5-3c37-4ac1-aad8-71a528f34522"
      },
      "source": [
        "def sumofEvenDigits(str):\n",
        "   sum = 0\n",
        "   for x in range(len(str)):\n",
        "      if ord (str[x]) >= 48 and ord(str[x]) <= 57:\n",
        "          if (ord(str[x])-48) % 2 == 0:\n",
        "              sum = sum + (ord(str[x])-48)\n",
        "   return sum\n",
        "sumofEvenDigits('Appli1cat8ion89')"
      ],
      "execution_count": 38,
      "outputs": [
        {
          "output_type": "execute_result",
          "data": {
            "text/plain": [
              "16"
            ]
          },
          "metadata": {
            "tags": []
          },
          "execution_count": 38
        }
      ]
    },
    {
      "cell_type": "code",
      "metadata": {
        "id": "5svTOibLHt2L",
        "colab_type": "code",
        "colab": {
          "base_uri": "https://localhost:8080/",
          "height": 34
        },
        "outputId": "b52a5f20-9774-4cfd-dd3d-2bc9c3729289"
      },
      "source": [
        "def wordUpperCase(s):\n",
        "   spaceCnt = 0\n",
        "   for x in  range(len(s)):\n",
        "       if ord(s[x]) == 32:\n",
        "           spaceCnt += 1\n",
        "       if spaceCnt == 1:\n",
        "           if ord(s[x]) >= 65 and ord(s[x]) <= 90:\n",
        "               print(s[x],end=\" \")\n",
        "           elif ord(s[x]) >= 97 and ord(s[x]) <= 122:\n",
        "               print(chr(ord(s[x])-32),end=\" \")\n",
        "       if spaceCnt == 2:\n",
        "           break   \n",
        "       \n",
        "   return \n",
        "wordUpperCase('python Made Easy')  "
      ],
      "execution_count": 47,
      "outputs": [
        {
          "output_type": "stream",
          "text": [
            "M A D E "
          ],
          "name": "stdout"
        }
      ]
    },
    {
      "cell_type": "code",
      "metadata": {
        "id": "tuJ76_R3IR_i",
        "colab_type": "code",
        "colab": {
          "base_uri": "https://localhost:8080/",
          "height": 34
        },
        "outputId": "35751a18-97d9-407d-a6c0-3998c4853ca4"
      },
      "source": [
        "x='gitam engineering college'\n",
        "print (x[len(x)::-5])"
      ],
      "execution_count": 48,
      "outputs": [
        {
          "output_type": "stream",
          "text": [
            "eoiim\n"
          ],
          "name": "stdout"
        }
      ]
    }
  ]
}