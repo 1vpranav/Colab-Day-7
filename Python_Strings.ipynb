{
  "nbformat": 4,
  "nbformat_minor": 0,
  "metadata": {
    "colab": {
      "name": "Python_Strings.ipynb",
      "version": "0.3.2",
      "provenance": [],
      "collapsed_sections": [],
      "include_colab_link": true
    },
    "kernelspec": {
      "name": "python3",
      "display_name": "Python 3"
    }
  },
  "cells": [
    {
      "cell_type": "markdown",
      "metadata": {
        "id": "view-in-github",
        "colab_type": "text"
      },
      "source": [
        "<a href=\"https://colab.research.google.com/github/1vpranav/Colab-Day-7/blob/master/Python_Strings.ipynb\" target=\"_parent\"><img src=\"https://colab.research.google.com/assets/colab-badge.svg\" alt=\"Open In Colab\"/></a>"
      ]
    },
    {
      "cell_type": "code",
      "metadata": {
        "id": "6JLv1CeiX-vI",
        "colab_type": "code",
        "outputId": "be94d73f-aeb8-47c7-a66f-a3456c48e913",
        "colab": {
          "base_uri": "https://localhost:8080/",
          "height": 202
        }
      },
      "source": [
        "s1 = 'Python'\n",
        "print(s1[0])#prints first char (s1)\n",
        "print(s1[1])\n",
        "print(s1[2])\n",
        "print(s1[3])\n",
        "print(s1[4])\n",
        "print(s1[5])\n",
        "print(s1[len(s1)-1])#prints last char (s1)\n",
        "print(s1[0:2])\n",
        "print(s1[:2])\n",
        "print(s1[-3:])\n",
        "print(s1[2:])\n",
        "print(s1[::3])\n",
        "print(s1[::-2])#from reverse order"
      ],
      "execution_count": 0,
      "outputs": [
        {
          "output_type": "stream",
          "text": [
            "P\n",
            "y\n",
            "t\n",
            "h\n",
            "o\n",
            "n\n",
            "n\n",
            "Py\n",
            "Py\n",
            "hon\n",
            "thon\n"
          ],
          "name": "stdout"
        }
      ]
    },
    {
      "cell_type": "code",
      "metadata": {
        "colab_type": "code",
        "outputId": "444808d1-c0cc-49f4-e229-f72d00a0dd9c",
        "id": "Ofohwi-bx0PK",
        "colab": {
          "base_uri": "https://localhost:8080/",
          "height": 34
        }
      },
      "source": [
        "def printUpper(x):\n",
        "  for i in range(len(x)):\n",
        "    if ord(x[i]) >= 65 and ord(x[i]) <= 90:\n",
        "      print(x[i],end = \" \")\n",
        "      \n",
        "  return\n",
        "printUpper(\"PyThon\")"
      ],
      "execution_count": 0,
      "outputs": [
        {
          "output_type": "stream",
          "text": [
            "P T "
          ],
          "name": "stdout"
        }
      ]
    },
    {
      "cell_type": "code",
      "metadata": {
        "id": "4_Z-sUPgyuhI",
        "colab_type": "code",
        "colab": {
          "base_uri": "https://localhost:8080/",
          "height": 34
        },
        "outputId": "9971990d-1338-4e2a-c561-1190391565bc"
      },
      "source": [
        "ord('a')#it gives us equivalent ascii value\n"
      ],
      "execution_count": 15,
      "outputs": [
        {
          "output_type": "execute_result",
          "data": {
            "text/plain": [
              "97"
            ]
          },
          "metadata": {
            "tags": []
          },
          "execution_count": 15
        }
      ]
    },
    {
      "cell_type": "code",
      "metadata": {
        "id": "cwC8EpyY1itx",
        "colab_type": "code",
        "colab": {}
      },
      "source": [
        ""
      ],
      "execution_count": 0,
      "outputs": []
    },
    {
      "cell_type": "code",
      "metadata": {
        "id": "LHUTMU1e3XZZ",
        "colab_type": "code",
        "colab": {}
      },
      "source": [
        "def findcount(str):\n",
        "  cntupper=0\n",
        "  cntlower=0\n",
        "  for x in range(len(str)):\n",
        "    if ord(x[i]) >= 65 and ord(x[i]) <= 90:\n",
        "      cntupper=cntupper + 1\n",
        "    elif ord(x[i]) >= 97 and ord(x[i]) <=122:\n",
        "      cntlower=cntlower + 1\n",
        "  if cntupper==cntlower:\n",
        "    return \"same count\"\n",
        "  else:\n",
        "    return \"programming\"\n",
        "  return\n",
        "findcount('PyThOn')\n",
        "findcount('PYTHon')"
      ],
      "execution_count": 0,
      "outputs": []
    }
  ]
}